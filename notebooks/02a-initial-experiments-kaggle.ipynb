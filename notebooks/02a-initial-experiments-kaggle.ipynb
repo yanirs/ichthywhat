{
 "metadata": {
  "kernelspec": {
   "language": "python",
   "display_name": "Python 3",
   "name": "python3"
  },
  "language_info": {
   "name": "python",
   "version": "3.7.10",
   "mimetype": "text/x-python",
   "codemirror_mode": {
    "name": "ipython",
    "version": 3
   },
   "pygments_lexer": "ipython3",
   "nbconvert_exporter": "python",
   "file_extension": ".py"
  }
 },
 "nbformat_minor": 4,
 "nbformat": 4,
 "cells": [
  {
   "cell_type": "markdown",
   "source": "# Initial experiments (remote)\n\n* Some rudimentary experiments with deeper architectures, which appear to overfit badly (need to learn more)\n* It may be that even xresnet50 isn't properly pretrained, as it underperforms compared to resnet50\n* Main goal of having a Kaggle setup was achieved",
   "metadata": {}
  },
  {
   "cell_type": "code",
   "source": "from ichthywhat import experiments\n\nfrom fastai.vision.all import *\nimport mlflow",
   "metadata": {
    "execution": {
     "iopub.status.busy": "2021-11-27T02:25:34.577312Z",
     "iopub.execute_input": "2021-11-27T02:25:34.577903Z",
     "iopub.status.idle": "2021-11-27T02:26:41.985902Z",
     "shell.execute_reply.started": "2021-11-27T02:25:34.577863Z",
     "shell.execute_reply": "2021-11-27T02:26:41.985078Z"
    },
    "trusted": true
   },
   "execution_count": 3,
   "outputs": []
  },
  {
   "cell_type": "code",
   "source": [
    "INPUT_ROOT = \"/kaggle/input\"\n",
    "OUTPUT_ROOT = \"/kaggle/working/deep-fish\""
   ],
   "metadata": {
    "execution": {
     "iopub.status.busy": "2021-11-27T02:26:41.987814Z",
     "iopub.execute_input": "2021-11-27T02:26:41.988081Z",
     "iopub.status.idle": "2021-11-27T02:26:41.992165Z",
     "shell.execute_reply.started": "2021-11-27T02:26:41.988044Z",
     "shell.execute_reply": "2021-11-27T02:26:41.991411Z"
    },
    "trusted": true
   },
   "execution_count": 4,
   "outputs": []
  },
  {
   "cell_type": "code",
   "source": "!mkdir -p deep-fish",
   "metadata": {
    "execution": {
     "iopub.status.busy": "2021-11-27T02:26:41.993379Z",
     "iopub.execute_input": "2021-11-27T02:26:41.993765Z",
     "iopub.status.idle": "2021-11-27T02:26:42.665847Z",
     "shell.execute_reply.started": "2021-11-27T02:26:41.993730Z",
     "shell.execute_reply": "2021-11-27T02:26:42.664892Z"
    },
    "trusted": true
   },
   "execution_count": 5,
   "outputs": []
  },
  {
   "cell_type": "code",
   "source": "# Vacuum compacts the file -- it's essentially a no-op to create the file if it doesn't exist\n!sqlite3 deep-fish/mlruns.db \"VACUUM;\"",
   "metadata": {
    "execution": {
     "iopub.status.busy": "2021-11-27T02:26:42.668258Z",
     "iopub.execute_input": "2021-11-27T02:26:42.668558Z",
     "iopub.status.idle": "2021-11-27T02:26:43.349500Z",
     "shell.execute_reply.started": "2021-11-27T02:26:42.668520Z",
     "shell.execute_reply": "2021-11-27T02:26:43.348328Z"
    },
    "trusted": true
   },
   "execution_count": 6,
   "outputs": []
  },
  {
   "cell_type": "code",
   "source": [
    "mlflow.set_tracking_uri(f\"sqlite:///{OUTPUT_ROOT}/mlruns.db\")\n",
    "mlflow.set_registry_uri(f\"file://{OUTPUT_ROOT}/mlruns\")\n",
    "mlflow.set_experiment(\"initial-rls-species-100-min-images-4\")"
   ],
   "metadata": {
    "execution": {
     "iopub.status.busy": "2021-11-27T02:26:43.351544Z",
     "iopub.execute_input": "2021-11-27T02:26:43.352031Z",
     "iopub.status.idle": "2021-11-27T02:26:44.111430Z",
     "shell.execute_reply.started": "2021-11-27T02:26:43.351987Z",
     "shell.execute_reply": "2021-11-27T02:26:44.110616Z"
    },
    "trusted": true
   },
   "execution_count": 7,
   "outputs": []
  },
  {
   "cell_type": "code",
   "source": [
    "create_reproducible_learner = partial(\n",
    "    experiments.create_reproducible_learner,\n",
    "    dataset_path=Path(f\"{INPUT_ROOT}/rls-species-100-min-images-4\"),\n",
    ")"
   ],
   "metadata": {
    "execution": {
     "iopub.status.busy": "2021-11-27T02:26:44.112546Z",
     "iopub.execute_input": "2021-11-27T02:26:44.114510Z",
     "iopub.status.idle": "2021-11-27T02:26:44.119516Z",
     "shell.execute_reply.started": "2021-11-27T02:26:44.114466Z",
     "shell.execute_reply": "2021-11-27T02:26:44.118278Z"
    },
    "trusted": true
   },
   "execution_count": 8,
   "outputs": []
  },
  {
   "cell_type": "code",
   "source": "create_reproducible_learner(resnet18, dls_kwargs=dict(verbose=True)).dls.show_batch()",
   "metadata": {
    "execution": {
     "iopub.status.busy": "2021-11-27T02:09:03.993907Z",
     "iopub.execute_input": "2021-11-27T02:09:03.994782Z",
     "iopub.status.idle": "2021-11-27T02:09:14.322447Z",
     "shell.execute_reply.started": "2021-11-27T02:09:03.994736Z",
     "shell.execute_reply": "2021-11-27T02:09:14.321203Z"
    },
    "trusted": true
   },
   "execution_count": 7,
   "outputs": []
  },
  {
   "cell_type": "code",
   "source": [
    "with mlflow.start_run(run_name=\"xresnet50\"):\n",
    "    learner = create_reproducible_learner(xresnet50)\n",
    "    mlflow.log_param(\"model\", learner.arch.__name__)\n",
    "    mlflow.log_param(\"item_tfms\", \"RandomResizedCrop(224, min_scale=0.5)\")\n",
    "    mlflow.log_param(\"batch_tfms\", \"aug_transforms()\")\n",
    "    learner.fine_tune(20)\n",
    "    mlflow.log_metrics(\n",
    "        dict(zip(learner.recorder.metric_names[1:-1], learner.recorder.log[1:-1]))\n",
    "    )"
   ],
   "metadata": {
    "execution": {
     "iopub.status.busy": "2021-11-26T02:53:20.531386Z",
     "iopub.execute_input": "2021-11-26T02:53:20.531962Z",
     "iopub.status.idle": "2021-11-26T02:57:26.360852Z",
     "shell.execute_reply.started": "2021-11-26T02:53:20.531923Z",
     "shell.execute_reply": "2021-11-26T02:57:26.360028Z"
    },
    "trusted": true
   },
   "execution_count": 11,
   "outputs": []
  },
  {
   "cell_type": "code",
   "source": [
    "with mlflow.start_run(run_name=\"xresnet50-more-fine-tuning\"):\n",
    "    mlflow.log_param(\"model\", learner.arch.__name__)\n",
    "    mlflow.log_param(\"item_tfms\", \"RandomResizedCrop(224, min_scale=0.5)\")\n",
    "    mlflow.log_param(\"batch_tfms\", \"aug_transforms()\")\n",
    "    mlflow.log_param(\"start_learner\", \"initial\")\n",
    "    learner.fine_tune(100)\n",
    "    mlflow.log_metrics(\n",
    "        dict(zip(learner.recorder.metric_names[1:-1], learner.recorder.log[1:-1]))\n",
    "    )"
   ],
   "metadata": {
    "execution": {
     "iopub.status.busy": "2021-11-26T02:58:10.407091Z",
     "iopub.execute_input": "2021-11-26T02:58:10.407750Z",
     "iopub.status.idle": "2021-11-26T03:13:22.264125Z",
     "shell.execute_reply.started": "2021-11-26T02:58:10.407707Z",
     "shell.execute_reply": "2021-11-26T03:13:22.262065Z"
    },
    "collapsed": true,
    "jupyter": {
     "outputs_hidden": true
    },
    "trusted": true
   },
   "execution_count": 13,
   "outputs": []
  },
  {
   "cell_type": "code",
   "source": [
    "with mlflow.start_run(run_name=\"xresnet50-mixup-label-smoothing\"):\n",
    "    learner = create_reproducible_learner(\n",
    "        xresnet50,\n",
    "        learner_kwargs=dict(\n",
    "            loss_func=LabelSmoothingCrossEntropy(),\n",
    "            cbs=[experiments.MLflowCallback(), MixUp()],\n",
    "        ),\n",
    "    )\n",
    "    mlflow.log_param(\"model\", learner.arch.__name__)\n",
    "    mlflow.log_param(\"item_tfms\", \"RandomResizedCrop(224, min_scale=0.5)\")\n",
    "    mlflow.log_param(\"batch_tfms\", \"aug_transforms()\")\n",
    "    mlflow.log_param(\"loss_func\", \"LabelSmoothingCrossEntropy()\")\n",
    "    mlflow.log_param(\"cbs\", \"MixUp()\")\n",
    "\n",
    "    learner.fine_tune(120)\n",
    "\n",
    "    mlflow.log_metrics(\n",
    "        experiments.get_learner_metrics_with_tta(learner, tta_prefix=\"tta_\", beta=0)\n",
    "    )"
   ],
   "metadata": {
    "execution": {
     "iopub.status.busy": "2021-11-27T02:10:55.388469Z",
     "iopub.execute_input": "2021-11-27T02:10:55.388763Z",
     "iopub.status.idle": "2021-11-27T02:17:06.971141Z",
     "shell.execute_reply.started": "2021-11-27T02:10:55.388726Z",
     "shell.execute_reply": "2021-11-27T02:17:06.969469Z"
    },
    "collapsed": true,
    "jupyter": {
     "outputs_hidden": true
    },
    "trusted": true
   },
   "execution_count": 8,
   "outputs": []
  },
  {
   "cell_type": "code",
   "source": [
    "with mlflow.start_run(run_name=\"resnet50-mixup-label-smoothing\"):\n",
    "    learner = create_reproducible_learner(\n",
    "        resnet50,\n",
    "        learner_kwargs=dict(\n",
    "            loss_func=LabelSmoothingCrossEntropy(),\n",
    "            cbs=[experiments.MLflowCallback(), MixUp()],\n",
    "        ),\n",
    "    )\n",
    "    mlflow.log_param(\"model\", learner.arch.__name__)\n",
    "    mlflow.log_param(\"item_tfms\", \"RandomResizedCrop(224, min_scale=0.5)\")\n",
    "    mlflow.log_param(\"batch_tfms\", \"aug_transforms()\")\n",
    "    mlflow.log_param(\"loss_func\", \"LabelSmoothingCrossEntropy()\")\n",
    "    mlflow.log_param(\"cbs\", \"MixUp()\")\n",
    "\n",
    "    learner.fine_tune(120)\n",
    "\n",
    "    mlflow.log_metrics(\n",
    "        experiments.get_learner_metrics_with_tta(learner, tta_prefix=\"tta_\", beta=0)\n",
    "    )"
   ],
   "metadata": {
    "execution": {
     "iopub.status.busy": "2021-11-27T02:26:56.110140Z",
     "iopub.execute_input": "2021-11-27T02:26:56.110422Z",
     "iopub.status.idle": "2021-11-27T02:50:11.006458Z",
     "shell.execute_reply.started": "2021-11-27T02:26:56.110389Z",
     "shell.execute_reply": "2021-11-27T02:50:11.005596Z"
    },
    "trusted": true
   },
   "execution_count": 9,
   "outputs": []
  }
 ]
}
