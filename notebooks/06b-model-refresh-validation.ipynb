{
 "cells": [
  {
   "cell_type": "markdown",
   "id": "39f9debd",
   "metadata": {},
   "source": [
    "# Model refresh validation\n",
    "\n",
    "Building on `03-app`, this notebook is used for validating a refreshed model on the QUT dataset.\n",
    "\n",
    "**December 2023:**\n",
    "* Generated M1-only dataset with `poetry run ichthywhat create-rls-species-dataset-from-api` on 2023-12-14 and uploaded to Kaggle.\n",
    "* Did two training runs on Kaggle with `06a-model-refresh-training-kaggle.ipynb`:\n",
    "  * `app-v2-20231219-200-epochs.pkl`: Exactly the same settings as before (v2 with 200 epochs). It may have underfit because now there's more data. Training loss was 0.573659 rather than 0.407830.\n",
    "  * `app-v2-20231219-400-epochs.pkl`: Same v2 settings but with 400 epochs. The training loss is down to 0.440023, and the QUT accuracy is slightly higher. However, it's marginally lower than the 2022-01 model (accuracy@10: 0.281 versus 0.284). Given that there are many more species now (2399 versus 2167 before), the slight drop in accuracy is worth it.\n",
    "* As an additional feasibility check of adding M2 species, did a training run with M1 + M2 species (v2 with 400 epochs and 20 frozen epochs). Training loss was ... QUT accuracy ...\n",
    "\n",
    "**TODO**: fill in the blanks for M1 + M2\n",
    "\n",
    "**TODO**: decide on deployment (M1 refreshed or M1 + M2?)"
   ]
  },
  {
   "cell_type": "code",
   "execution_count": 1,
   "id": "7bc22ebc",
   "metadata": {},
   "outputs": [],
   "source": [
    "from fastai.learner import load_learner\n",
    "import httpx\n",
    "\n",
    "from ichthywhat import experiments\n",
    "from ichthywhat.inference import OnnxWrapper\n",
    "from ichthywhat.constants import ROOT_PATH, DEFAULT_DATA_PATH, DEFAULT_MODELS_PATH\n",
    "from ichthywhat.training import export_learner_to_onnx, train_app_model"
   ]
  },
  {
   "cell_type": "code",
   "execution_count": 6,
   "id": "722146ea",
   "metadata": {},
   "outputs": [
    {
     "data": {
      "text/plain": [
       "[(Path('/vagrant/data/qut-cropped-controlled/anampses-caeruleopunctatus-13.png'),\n",
       "  'Anampses caeruleopunctatus'),\n",
       " (Path('/vagrant/data/qut-cropped-controlled/thalassoma-trilobatum-4.png'),\n",
       "  'Thalassoma trilobatum'),\n",
       " (Path('/vagrant/data/qut-cropped-controlled/plotosus-lineatus-7.png'),\n",
       "  'Plotosus lineatus'),\n",
       " (Path('/vagrant/data/qut-cropped-controlled/cirrhilabrus-scottorum-14.png'),\n",
       "  'Cirrhilabrus scottorum'),\n",
       " (Path('/vagrant/data/qut-cropped-controlled/lutjanus-quinquelineatus-7.png'),\n",
       "  'Lutjanus quinquelineatus')]"
      ]
     },
     "execution_count": 6,
     "metadata": {},
     "output_type": "execute_result"
    }
   ],
   "source": [
    "def load_qut_dataset(\n",
    "    dataset_path=DEFAULT_DATA_PATH / \"qut-cropped-controlled\",\n",
    "    species_json_url=\"https://raw.githubusercontent.com/yanirs/rls-data/master/output/species.json\",\n",
    "):\n",
    "    \"\"\"Load the QUT dataset file and update superseded names (assumes recent training data).\"\"\"\n",
    "    all_species = httpx.get(species_json_url).json()\n",
    "    superseded_to_current = {}\n",
    "    for species in all_species:\n",
    "        for superseded_name in species.get(\"superseded_names\", []):\n",
    "            superseded_to_current[superseded_name] = species[\"scientific_name\"]\n",
    "    paths = []\n",
    "    labels = []\n",
    "    for path in dataset_path.glob(\"*.png\"):\n",
    "        paths.append(path)\n",
    "        label = \" \".join(path.name.split(\"-\")[:2]).capitalize()\n",
    "        labels.append(superseded_to_current.get(label, label))\n",
    "    return paths, labels\n",
    "\n",
    "\n",
    "qut_paths, qut_labels = load_qut_dataset()\n",
    "list(zip(qut_paths, qut_labels))[:5]"
   ]
  },
  {
   "cell_type": "code",
   "execution_count": 3,
   "id": "2155070f",
   "metadata": {},
   "outputs": [],
   "source": [
    "def test_model(learner_pkl_path):\n",
    "    learner = load_learner(learner_pkl_path)\n",
    "    learner_stats = experiments.test_learner(\n",
    "        learner, qut_paths, qut_labels, show_grid=False\n",
    "    )\n",
    "    onnx_path = learner_pkl_path.parent / learner_pkl_path.name.replace(\".pkl\", \".onnx\")\n",
    "    export_learner_to_onnx(learner_pkl_path, onnx_path)\n",
    "    onnx_stats = OnnxWrapper(onnx_path).evaluate(qut_paths, qut_labels)\n",
    "    return dict(learner=learner_stats, onnx=onnx_stats)"
   ]
  },
  {
   "cell_type": "code",
   "execution_count": 4,
   "id": "a625e3a8",
   "metadata": {},
   "outputs": [
    {
     "data": {
      "text/html": [
       "\n",
       "<style>\n",
       "    /* Turns off some styling */\n",
       "    progress {\n",
       "        /* gets rid of default border in Firefox and Opera. */\n",
       "        border: none;\n",
       "        /* Needs to be in here for Safari polyfill so background images work as expected. */\n",
       "        background-size: auto;\n",
       "    }\n",
       "    progress:not([value]), progress:not([value])::-webkit-progress-bar {\n",
       "        background: repeating-linear-gradient(45deg, #7e7e7e, #7e7e7e 10px, #5c5c5c 10px, #5c5c5c 20px);\n",
       "    }\n",
       "    .progress-bar-interrupted, .progress-bar-interrupted::-webkit-progress-bar {\n",
       "        background: #F44336;\n",
       "    }\n",
       "</style>\n"
      ],
      "text/plain": [
       "<IPython.core.display.HTML object>"
      ]
     },
     "metadata": {},
     "output_type": "display_data"
    },
    {
     "data": {
      "text/html": [],
      "text/plain": [
       "<IPython.core.display.HTML object>"
      ]
     },
     "metadata": {},
     "output_type": "display_data"
    },
    {
     "name": "stdout",
     "output_type": "stream",
     "text": [
      "============= Diagnostic Run torch.onnx.export version 2.0.0+cu117 =============\n",
      "verbose: False, log level: Level.ERROR\n",
      "======================= 0 NONE 0 NOTE 0 WARNING 0 ERROR ========================\n",
      "\n"
     ]
    },
    {
     "data": {
      "text/plain": [
       "{'learner': {'top_1_accuracy': 0.09460888057947159,\n",
       "  'top_3_accuracy': 0.15010571479797363,\n",
       "  'top_10_accuracy': 0.23678646981716156},\n",
       " 'onnx': {'top_1_accuracy': 0.10940803382663848,\n",
       "  'top_3_accuracy': 0.18128964059196617,\n",
       "  'top_10_accuracy': 0.2774841437632135}}"
      ]
     },
     "execution_count": 4,
     "metadata": {},
     "output_type": "execute_result"
    }
   ],
   "source": [
    "test_model(DEFAULT_MODELS_PATH / \"app-v2-20231219-200-epochs.pkl\")"
   ]
  },
  {
   "cell_type": "code",
   "execution_count": 5,
   "id": "b6b3b8a4",
   "metadata": {},
   "outputs": [
    {
     "data": {
      "text/html": [
       "\n",
       "<style>\n",
       "    /* Turns off some styling */\n",
       "    progress {\n",
       "        /* gets rid of default border in Firefox and Opera. */\n",
       "        border: none;\n",
       "        /* Needs to be in here for Safari polyfill so background images work as expected. */\n",
       "        background-size: auto;\n",
       "    }\n",
       "    progress:not([value]), progress:not([value])::-webkit-progress-bar {\n",
       "        background: repeating-linear-gradient(45deg, #7e7e7e, #7e7e7e 10px, #5c5c5c 10px, #5c5c5c 20px);\n",
       "    }\n",
       "    .progress-bar-interrupted, .progress-bar-interrupted::-webkit-progress-bar {\n",
       "        background: #F44336;\n",
       "    }\n",
       "</style>\n"
      ],
      "text/plain": [
       "<IPython.core.display.HTML object>"
      ]
     },
     "metadata": {},
     "output_type": "display_data"
    },
    {
     "data": {
      "text/html": [],
      "text/plain": [
       "<IPython.core.display.HTML object>"
      ]
     },
     "metadata": {},
     "output_type": "display_data"
    },
    {
     "name": "stdout",
     "output_type": "stream",
     "text": [
      "============= Diagnostic Run torch.onnx.export version 2.0.0+cu117 =============\n",
      "verbose: False, log level: Level.ERROR\n",
      "======================= 0 NONE 0 NOTE 0 WARNING 0 ERROR ========================\n",
      "\n"
     ]
    },
    {
     "data": {
      "text/plain": [
       "{'learner': {'top_1_accuracy': 0.08615221828222275,\n",
       "  'top_3_accuracy': 0.1532769501209259,\n",
       "  'top_10_accuracy': 0.2452431321144104},\n",
       " 'onnx': {'top_1_accuracy': 0.11469344608879492,\n",
       "  'top_3_accuracy': 0.18551797040169132,\n",
       "  'top_10_accuracy': 0.28118393234672306}}"
      ]
     },
     "execution_count": 5,
     "metadata": {},
     "output_type": "execute_result"
    }
   ],
   "source": [
    "test_model(DEFAULT_MODELS_PATH / \"app-v2-20231219-400-epochs.pkl\")"
   ]
  }
 ],
 "metadata": {
  "kernelspec": {
   "display_name": "Python 3 (ipykernel)",
   "language": "python",
   "name": "python3"
  },
  "language_info": {
   "codemirror_mode": {
    "name": "ipython",
    "version": 3
   },
   "file_extension": ".py",
   "mimetype": "text/x-python",
   "name": "python",
   "nbconvert_exporter": "python",
   "pygments_lexer": "ipython3",
   "version": "3.10.12"
  }
 },
 "nbformat": 4,
 "nbformat_minor": 5
}
